{
  "nbformat": 4,
  "nbformat_minor": 0,
  "metadata": {
    "colab": {
      "provenance": [],
      "authorship_tag": "ABX9TyP49ap93LiKYnQbSNhewlHS",
      "include_colab_link": true
    },
    "kernelspec": {
      "name": "python3",
      "display_name": "Python 3"
    },
    "language_info": {
      "name": "python"
    }
  },
  "cells": [
    {
      "cell_type": "markdown",
      "metadata": {
        "id": "view-in-github",
        "colab_type": "text"
      },
      "source": [
        "<a href=\"https://colab.research.google.com/github/Ercampa2/AulasAprendizadoMaquina/blob/main/redesNeurais.ipynb\" target=\"_parent\"><img src=\"https://colab.research.google.com/assets/colab-badge.svg\" alt=\"Open In Colab\"/></a>"
      ]
    },
    {
      "cell_type": "code",
      "execution_count": 131,
      "metadata": {
        "id": "ObPzkvFzMusL"
      },
      "outputs": [],
      "source": [
        "import numpy as np"
      ]
    },
    {
      "cell_type": "code",
      "source": [
        "def activation(x):\n",
        "  return np.where(x >= 0, 1, 0)\n",
        "\n",
        "def predict(x, weights, bias):\n",
        "  z = np.dot(x, weights) + bias\n",
        "  return activation(z)\n",
        "\n",
        "def fit(x, y, learning_rate=0.001, epochs=100):\n",
        "  n_features = x.shape[1]\n",
        "\n",
        "  #Inicialização\n",
        "  weights = np.random.rand(n_features)\n",
        "  bias = 0\n",
        "\n",
        "  #Percorrer pelas épocas\n",
        "  for epoch in range(epochs):\n",
        "    #Percorrer pelos dados \n",
        "    for i in range(len(x)):\n",
        "      z = np.dot(x, weights) + bias #produto escalar e bias\n",
        "      y_pred = activation(z) #Função de ativação\n",
        "      loss = (y[i] - y_pred[i]) #Calculo perda\n",
        "\n",
        "      #Atualização dos pesos com base no erro(perda)\n",
        "      weights += learning_rate * loss * x[i]\n",
        "      bias += learning_rate * loss\n",
        "\n",
        "\n",
        "  #Calculo de performance da epoca\n",
        "  y_pred = predict(x,weights,bias)\n",
        "  acc = 1 - np.sum(np.abs(y_pred-y))/len(x)\n",
        "  print(f'acc after epcoch {epoch}: {acc}')\n",
        "  return weights, loss"
      ],
      "metadata": {
        "id": "nXin8ociNJPC"
      },
      "execution_count": 132,
      "outputs": []
    },
    {
      "cell_type": "code",
      "source": [
        "x = np.array([[0,0,0],\n",
        "             [0,1,0],\n",
        "             [1,1,0],\n",
        "             [1,1,1]])\n",
        "\n",
        "y = np.array([1,\n",
        "              0,\n",
        "              0,\n",
        "              1])\n",
        "\n",
        "w,b = fit(x, y, learning_rate=0.001, epochs=500)\n",
        "\n",
        "pred = predict(x, w, b)\n",
        "\n",
        "print(pred)"
      ],
      "metadata": {
        "colab": {
          "base_uri": "https://localhost:8080/"
        },
        "id": "ALdVdA4uPTaa",
        "outputId": "a11ecd86-98b0-42f7-a6c2-f5278c50e4cf"
      },
      "execution_count": 133,
      "outputs": [
        {
          "output_type": "stream",
          "name": "stdout",
          "text": [
            "acc after epcoch 499: 1.0\n",
            "[1 0 0 1]\n"
          ]
        }
      ]
    },
    {
      "cell_type": "code",
      "source": [
        "X = np.array([[7, 9, 7], #23 - 1\n",
        "              [3, 7, 3], #13 - 0\n",
        "              [10, 10, 10], #30 - 1             \n",
        "              [8, 5, 10], #23 - 1\n",
        "              [4, 5, 7], #16 - 0\n",
        "              [4, 9, 2], #15 - 0\n",
        "              [7, 6, 8], #21 - 1\n",
        "              [3, 5, 5], #13 - 0\n",
        "              [0,10,10], #20 - 0\n",
        "              [4,10,10], #24 - 1\n",
        "              [8,4,9], # 21 - 1\n",
        "              [10,10,0], # 10 - 0\n",
        "              [10,3,10]]) # 23 - 1\n",
        "\n",
        "Y = np.array([1, \n",
        "              0, \n",
        "              1, \n",
        "              1,\n",
        "              0,\n",
        "              0,\n",
        "              1,\n",
        "              0,\n",
        "              0,\n",
        "              1,\n",
        "              1,\n",
        "              0,\n",
        "              1])\n",
        "\n",
        "W,B = fit(X, Y,\n",
        "          learning_rate=0.001,\n",
        "          epochs=100)"
      ],
      "metadata": {
        "colab": {
          "base_uri": "https://localhost:8080/"
        },
        "id": "GlWnIUCASLJP",
        "outputId": "4f6313e8-c168-4919-c5bb-bcb25b9fe5cf"
      },
      "execution_count": 172,
      "outputs": [
        {
          "output_type": "stream",
          "name": "stdout",
          "text": [
            "acc after epcoch 99: 0.9230769230769231\n"
          ]
        }
      ]
    },
    {
      "cell_type": "code",
      "source": [
        "pred = predict([10,8,9],W,B) # 27\n",
        "print(pred)\n",
        "\n",
        "pred = predict([9,7,5],W,B) # 21\n",
        "print(pred)\n",
        "\n",
        "pred = predict([5,9,7],W,B) # 21\n",
        "print(pred)\n",
        "\n",
        "pred = predict([6,6,9],W,B) # 21\n",
        "print(pred)\n",
        "\n",
        "pred = predict([4,6,6],W,B) # 16\n",
        "print(pred)\n",
        "\n",
        "pred = predict([3,5,7],W,B) # 15\n",
        "print(pred)\n",
        "\n",
        "pred = predict([0,10,7],W,B) # 17\n",
        "print(pred)\n",
        "\n",
        "pred = predict([8,10,2],W,B) # 20\n",
        "print(pred)"
      ],
      "metadata": {
        "colab": {
          "base_uri": "https://localhost:8080/"
        },
        "id": "3-J3N6cCTPRE",
        "outputId": "06dd20a6-a1f4-4aa1-9130-71749599454d"
      },
      "execution_count": 173,
      "outputs": [
        {
          "output_type": "stream",
          "name": "stdout",
          "text": [
            "1\n",
            "1\n",
            "1\n",
            "1\n",
            "1\n",
            "1\n",
            "1\n",
            "1\n"
          ]
        }
      ]
    },
    {
      "cell_type": "code",
      "source": [
        "from sklearn.datasets import load_iris\n",
        "from sklearn.model_selection import train_test_split\n",
        "from sklearn.metrics import classification_report\n",
        "\n",
        "data = load_iris()\n",
        "X = data['data']\n",
        "y = data['target']\n",
        "\n",
        "X_train, X_test, y_train, y_test = train_test_split(X,y)\n",
        "\n",
        "\n",
        "w,b = fit(X_train,y_train,learning_rate=0.001, epochs=100)\n",
        "\n",
        "y_pred = predict(X_test,w,b)\n",
        "\n",
        "print(classification_report(y_test,y_pred))\n",
        "\n",
        "\n"
      ],
      "metadata": {
        "colab": {
          "base_uri": "https://localhost:8080/"
        },
        "id": "limVreXuVhL4",
        "outputId": "27b1c6c7-3990-4bfc-fda1-3578e0e7456b"
      },
      "execution_count": 139,
      "outputs": [
        {
          "output_type": "stream",
          "name": "stdout",
          "text": [
            "acc after epcoch 99: 0.3303571428571429\n",
            "              precision    recall  f1-score   support\n",
            "\n",
            "           0       0.00      0.00      0.00        14\n",
            "           1       0.34      1.00      0.51        13\n",
            "           2       0.00      0.00      0.00        11\n",
            "\n",
            "    accuracy                           0.34        38\n",
            "   macro avg       0.11      0.33      0.17        38\n",
            "weighted avg       0.12      0.34      0.17        38\n",
            "\n"
          ]
        },
        {
          "output_type": "stream",
          "name": "stderr",
          "text": [
            "/usr/local/lib/python3.9/dist-packages/sklearn/metrics/_classification.py:1344: UndefinedMetricWarning: Precision and F-score are ill-defined and being set to 0.0 in labels with no predicted samples. Use `zero_division` parameter to control this behavior.\n",
            "  _warn_prf(average, modifier, msg_start, len(result))\n",
            "/usr/local/lib/python3.9/dist-packages/sklearn/metrics/_classification.py:1344: UndefinedMetricWarning: Precision and F-score are ill-defined and being set to 0.0 in labels with no predicted samples. Use `zero_division` parameter to control this behavior.\n",
            "  _warn_prf(average, modifier, msg_start, len(result))\n",
            "/usr/local/lib/python3.9/dist-packages/sklearn/metrics/_classification.py:1344: UndefinedMetricWarning: Precision and F-score are ill-defined and being set to 0.0 in labels with no predicted samples. Use `zero_division` parameter to control this behavior.\n",
            "  _warn_prf(average, modifier, msg_start, len(result))\n"
          ]
        }
      ]
    }
  ]
}