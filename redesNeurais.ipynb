{
  "nbformat": 4,
  "nbformat_minor": 0,
  "metadata": {
    "colab": {
      "provenance": [],
      "authorship_tag": "ABX9TyMXhXcrOu4aLHl+rVyrziJD",
      "include_colab_link": true
    },
    "kernelspec": {
      "name": "python3",
      "display_name": "Python 3"
    },
    "language_info": {
      "name": "python"
    }
  },
  "cells": [
    {
      "cell_type": "markdown",
      "metadata": {
        "id": "view-in-github",
        "colab_type": "text"
      },
      "source": [
        "<a href=\"https://colab.research.google.com/github/Ercampa2/AulasAprendizadoMaquina/blob/main/redesNeurais.ipynb\" target=\"_parent\"><img src=\"https://colab.research.google.com/assets/colab-badge.svg\" alt=\"Open In Colab\"/></a>"
      ]
    },
    {
      "cell_type": "code",
      "execution_count": 215,
      "metadata": {
        "id": "ObPzkvFzMusL"
      },
      "outputs": [],
      "source": [
        "import numpy as np\n",
        "from sklearn.metrics import accuracy_score\n",
        "from sklearn.tree import DecisionTreeClassifier\n",
        "from sklearn import tree"
      ]
    },
    {
      "cell_type": "code",
      "source": [
        "def activation(x):\n",
        "  return np.where(x >= 0, 1, 0)\n",
        "\n",
        "def predict(x, weights, bias):\n",
        "  z = np.dot(x, weights) + bias\n",
        "  return activation(z)\n",
        "\n",
        "def fit(x, y, learning_rate=0.001, epochs=100):\n",
        "  n_features = x.shape[1]\n",
        "\n",
        "  #Inicialização\n",
        "  weights = np.random.rand(n_features)\n",
        "  bias = 0\n",
        "\n",
        "  #Percorrer pelas épocas\n",
        "  for epoch in range(epochs):\n",
        "    #Percorrer pelos dados \n",
        "    for i in range(len(x)):\n",
        "      z = np.dot(x, weights) + bias #produto escalar e bias\n",
        "      y_pred = activation(z) #Função de ativação\n",
        "      loss = (y[i] - y_pred[i]) #Calculo perda\n",
        "\n",
        "      #Atualização dos pesos com base no erro(perda)\n",
        "      weights += learning_rate * loss * x[i]\n",
        "      bias += learning_rate * loss\n",
        "\n",
        "\n",
        "  #Calculo de performance da epoca\n",
        "  y_pred = predict(x,weights,bias)\n",
        "  acc = 1 - np.sum(np.abs(y_pred-y))/len(x)\n",
        "\n",
        "  acc = accuracy_score(y_pred, y)\n",
        "  print(f'acc after epcoch {epoch}: {acc}')\n",
        "  return weights, loss"
      ],
      "metadata": {
        "id": "nXin8ociNJPC"
      },
      "execution_count": 208,
      "outputs": []
    },
    {
      "cell_type": "code",
      "source": [
        "\n",
        "x = np.array([[0,0,0],\n",
        "             [0,1,0],\n",
        "             [1,1,0],\n",
        "             [1,1,1]])\n",
        "\n",
        "y = np.array([1,\n",
        "              0,\n",
        "              0,\n",
        "              1])\n",
        "\n",
        "w,b = fit(x, y, learning_rate=0.001, epochs=500)\n",
        "\n",
        "pred = predict(x, w, b)\n",
        "\n",
        "print(pred)"
      ],
      "metadata": {
        "colab": {
          "base_uri": "https://localhost:8080/"
        },
        "id": "ALdVdA4uPTaa",
        "outputId": "dbf53ecd-19b3-4f7c-dfca-65846c8f8791"
      },
      "execution_count": 211,
      "outputs": [
        {
          "output_type": "stream",
          "name": "stdout",
          "text": [
            "acc after epcoch 499: 0.75\n",
            "1.0\n",
            "[1 0 0 1]\n",
            "[1 1 1 1]\n"
          ]
        }
      ]
    },
    {
      "cell_type": "code",
      "source": [
        "model = DecisionTreeClassifier()\n",
        "model.fit(x,y)\n",
        "print(accuracy_score(model.predict(x), y))\n",
        "print(model.predict(x))"
      ],
      "metadata": {
        "id": "zEyGL4uZbueM"
      },
      "execution_count": null,
      "outputs": []
    },
    {
      "cell_type": "code",
      "source": [
        "X = np.array([[7, 9, 7], #23 - 1\n",
        "              [3, 7, 3], #13 - 0\n",
        "              [10, 10, 10], #30 - 1             \n",
        "              [8, 5, 10], #23 - 1\n",
        "              [4, 5, 7], #16 - 0\n",
        "              [4, 9, 2], #15 - 0\n",
        "              [7, 6, 8], #21 - 1\n",
        "              [3, 5, 5], #13 - 0\n",
        "              [0,10,10], #20 - 0\n",
        "              [4,10,10], #24 - 1\n",
        "              [8,4,9], # 21 - 1\n",
        "              [10,10,0], # 10 - 0\n",
        "              [10,3,10]]) # 23 - 1\n",
        "\n",
        "Y = np.array([1, \n",
        "              0, \n",
        "              1, \n",
        "              1,\n",
        "              0,\n",
        "              0,\n",
        "              1,\n",
        "              0,\n",
        "              0,\n",
        "              1,\n",
        "              1,\n",
        "              0,\n",
        "              1])\n",
        "\n",
        "W,B = fit(X, Y,\n",
        "          learning_rate=0.001,\n",
        "          epochs=100)\n",
        "\n",
        "List = predict(X,W,B)\n",
        "print(List)"
      ],
      "metadata": {
        "colab": {
          "base_uri": "https://localhost:8080/"
        },
        "id": "GlWnIUCASLJP",
        "outputId": "6b992733-f3c0-4bab-9355-d2b54d9a2fed"
      },
      "execution_count": 213,
      "outputs": [
        {
          "output_type": "stream",
          "name": "stdout",
          "text": [
            "acc after epcoch 99: 0.7692307692307693\n",
            "[1 0 1 1 1 0 1 1 0 1 1 0 1]\n"
          ]
        }
      ]
    },
    {
      "cell_type": "code",
      "source": [
        "model2 = DecisionTreeClassifier()\n",
        "\n",
        "#print(model2.predict(X))\n",
        "#print(accuracy_score(model2.predict(X), Y))\n",
        "tree.plot_tree(model2.fit(X, Y))"
      ],
      "metadata": {
        "colab": {
          "base_uri": "https://localhost:8080/",
          "height": 562
        },
        "id": "tOarj7ytb2Jq",
        "outputId": "46af61be-dfd0-43bb-a89a-5a3642a346b4"
      },
      "execution_count": 216,
      "outputs": [
        {
          "output_type": "execute_result",
          "data": {
            "text/plain": [
              "[Text(0.4, 0.9, 'x[2] <= 6.0\\ngini = 0.497\\nsamples = 13\\nvalue = [6, 7]'),\n",
              " Text(0.2, 0.7, 'gini = 0.0\\nsamples = 4\\nvalue = [4, 0]'),\n",
              " Text(0.6, 0.7, 'x[0] <= 5.5\\ngini = 0.346\\nsamples = 9\\nvalue = [2, 7]'),\n",
              " Text(0.4, 0.5, 'x[0] <= 2.0\\ngini = 0.444\\nsamples = 3\\nvalue = [2, 1]'),\n",
              " Text(0.2, 0.3, 'gini = 0.0\\nsamples = 1\\nvalue = [1, 0]'),\n",
              " Text(0.6, 0.3, 'x[2] <= 8.5\\ngini = 0.5\\nsamples = 2\\nvalue = [1, 1]'),\n",
              " Text(0.4, 0.1, 'gini = 0.0\\nsamples = 1\\nvalue = [1, 0]'),\n",
              " Text(0.8, 0.1, 'gini = 0.0\\nsamples = 1\\nvalue = [0, 1]'),\n",
              " Text(0.8, 0.5, 'gini = 0.0\\nsamples = 6\\nvalue = [0, 6]')]"
            ]
          },
          "metadata": {},
          "execution_count": 216
        },
        {
          "output_type": "display_data",
          "data": {
            "text/plain": [
              "<Figure size 640x480 with 1 Axes>"
            ],
            "image/png": "[encoded data removed]"
          },
          "metadata": {}
        }
      ]
    },
    {
      "cell_type": "code",
      "source": [
        "pred = predict([10,8,9],W,B) # 27\n",
        "print(pred)\n",
        "\n",
        "pred = predict([9,7,5],W,B) # 21\n",
        "print(pred)\n",
        "\n",
        "pred = predict([5,9,7],W,B) # 21\n",
        "print(pred)\n",
        "\n",
        "pred = predict([6,6,9],W,B) # 21\n",
        "print(pred)\n",
        "\n",
        "pred = predict([4,6,6],W,B) # 16\n",
        "print(pred)\n",
        "\n",
        "pred = predict([3,5,7],W,B) # 15\n",
        "print(pred)\n",
        "\n",
        "pred = predict([0,10,7],W,B) # 17\n",
        "print(pred)\n",
        "\n",
        "pred = predict([8,10,2],W,B) # 20\n",
        "print(pred)"
      ],
      "metadata": {
        "colab": {
          "base_uri": "https://localhost:8080/"
        },
        "id": "3-J3N6cCTPRE",
        "outputId": "2c8003c6-4b9d-4a8b-8cf0-749616b0de02"
      },
      "execution_count": 193,
      "outputs": [
        {
          "output_type": "stream",
          "name": "stdout",
          "text": [
            "1\n",
            "1\n",
            "1\n",
            "1\n",
            "1\n",
            "1\n",
            "1\n",
            "1\n"
          ]
        }
      ]
    },
    {
      "cell_type": "code",
      "source": [
        "from sklearn.datasets import load_iris\n",
        "from sklearn.model_selection import train_test_split\n",
        "from sklearn.metrics import classification_report\n",
        "\n",
        "data = load_iris()\n",
        "X = data['data']\n",
        "y = data['target']\n",
        "\n",
        "X_train, X_test, y_train, y_test = train_test_split(X,y)\n",
        "\n",
        "\n",
        "w,b = fit(X_train,y_train,learning_rate=0.001, epochs=100)\n",
        "\n",
        "y_pred = predict(X_test,w,b)\n",
        "\n",
        "print(classification_report(y_test,y_pred))\n",
        "\n",
        "\n"
      ],
      "metadata": {
        "colab": {
          "base_uri": "https://localhost:8080/"
        },
        "id": "limVreXuVhL4",
        "outputId": "27b1c6c7-3990-4bfc-fda1-3578e0e7456b"
      },
      "execution_count": 139,
      "outputs": [
        {
          "output_type": "stream",
          "name": "stdout",
          "text": [
            "acc after epcoch 99: 0.3303571428571429\n",
            "              precision    recall  f1-score   support\n",
            "\n",
            "           0       0.00      0.00      0.00        14\n",
            "           1       0.34      1.00      0.51        13\n",
            "           2       0.00      0.00      0.00        11\n",
            "\n",
            "    accuracy                           0.34        38\n",
            "   macro avg       0.11      0.33      0.17        38\n",
            "weighted avg       0.12      0.34      0.17        38\n",
            "\n"
          ]
        },
        {
          "output_type": "stream",
          "name": "stderr",
          "text": [
            "/usr/local/lib/python3.9/dist-packages/sklearn/metrics/_classification.py:1344: UndefinedMetricWarning: Precision and F-score are ill-defined and being set to 0.0 in labels with no predicted samples. Use `zero_division` parameter to control this behavior.\n",
            "  _warn_prf(average, modifier, msg_start, len(result))\n",
            "/usr/local/lib/python3.9/dist-packages/sklearn/metrics/_classification.py:1344: UndefinedMetricWarning: Precision and F-score are ill-defined and being set to 0.0 in labels with no predicted samples. Use `zero_division` parameter to control this behavior.\n",
            "  _warn_prf(average, modifier, msg_start, len(result))\n",
            "/usr/local/lib/python3.9/dist-packages/sklearn/metrics/_classification.py:1344: UndefinedMetricWarning: Precision and F-score are ill-defined and being set to 0.0 in labels with no predicted samples. Use `zero_division` parameter to control this behavior.\n",
            "  _warn_prf(average, modifier, msg_start, len(result))\n"
          ]
        }
      ]
    }
  ]
}